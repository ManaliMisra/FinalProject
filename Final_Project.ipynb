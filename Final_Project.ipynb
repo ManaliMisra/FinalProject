{
  "nbformat": 4,
  "nbformat_minor": 0,
  "metadata": {
    "colab": {
      "provenance": [],
      "authorship_tag": "ABX9TyPppgs6H2HnGXeFw97pLd54",
      "include_colab_link": true
    },
    "kernelspec": {
      "name": "python3",
      "display_name": "Python 3"
    },
    "language_info": {
      "name": "python"
    },
    "widgets": {
      "application/vnd.jupyter.widget-state+json": {
        "1305730337fe497195ee17c6cfebd964": {
          "model_module": "@jupyter-widgets/controls",
          "model_name": "FloatSliderModel",
          "model_module_version": "1.5.0",
          "state": {
            "_dom_classes": [],
            "_model_module": "@jupyter-widgets/controls",
            "_model_module_version": "1.5.0",
            "_model_name": "FloatSliderModel",
            "_view_count": null,
            "_view_module": "@jupyter-widgets/controls",
            "_view_module_version": "1.5.0",
            "_view_name": "FloatSliderView",
            "continuous_update": true,
            "description": "Infection",
            "description_tooltip": null,
            "disabled": false,
            "layout": "IPY_MODEL_ea125c2e9de14e989e6268be747c89b0",
            "max": 1,
            "min": 0,
            "orientation": "horizontal",
            "readout": true,
            "readout_format": ".2f",
            "step": 0.01,
            "style": "IPY_MODEL_b1a57a3d07d7451e9ed9f7334fd05bbf",
            "value": 0.64
          }
        },
        "ea125c2e9de14e989e6268be747c89b0": {
          "model_module": "@jupyter-widgets/base",
          "model_name": "LayoutModel",
          "model_module_version": "1.2.0",
          "state": {
            "_model_module": "@jupyter-widgets/base",
            "_model_module_version": "1.2.0",
            "_model_name": "LayoutModel",
            "_view_count": null,
            "_view_module": "@jupyter-widgets/base",
            "_view_module_version": "1.2.0",
            "_view_name": "LayoutView",
            "align_content": null,
            "align_items": null,
            "align_self": null,
            "border": null,
            "bottom": null,
            "display": null,
            "flex": null,
            "flex_flow": null,
            "grid_area": null,
            "grid_auto_columns": null,
            "grid_auto_flow": null,
            "grid_auto_rows": null,
            "grid_column": null,
            "grid_gap": null,
            "grid_row": null,
            "grid_template_areas": null,
            "grid_template_columns": null,
            "grid_template_rows": null,
            "height": null,
            "justify_content": null,
            "justify_items": null,
            "left": null,
            "margin": null,
            "max_height": null,
            "max_width": null,
            "min_height": null,
            "min_width": null,
            "object_fit": null,
            "object_position": null,
            "order": null,
            "overflow": null,
            "overflow_x": null,
            "overflow_y": null,
            "padding": null,
            "right": null,
            "top": null,
            "visibility": null,
            "width": null
          }
        },
        "b1a57a3d07d7451e9ed9f7334fd05bbf": {
          "model_module": "@jupyter-widgets/controls",
          "model_name": "SliderStyleModel",
          "model_module_version": "1.5.0",
          "state": {
            "_model_module": "@jupyter-widgets/controls",
            "_model_module_version": "1.5.0",
            "_model_name": "SliderStyleModel",
            "_view_count": null,
            "_view_module": "@jupyter-widgets/base",
            "_view_module_version": "1.2.0",
            "_view_name": "StyleView",
            "description_width": "",
            "handle_color": null
          }
        },
        "d890c5efcce74373a12aba7ffe0b1150": {
          "model_module": "@jupyter-widgets/controls",
          "model_name": "FloatSliderModel",
          "model_module_version": "1.5.0",
          "state": {
            "_dom_classes": [],
            "_model_module": "@jupyter-widgets/controls",
            "_model_module_version": "1.5.0",
            "_model_name": "FloatSliderModel",
            "_view_count": null,
            "_view_module": "@jupyter-widgets/controls",
            "_view_module_version": "1.5.0",
            "_view_name": "FloatSliderView",
            "continuous_update": true,
            "description": "Recovery",
            "description_tooltip": null,
            "disabled": false,
            "layout": "IPY_MODEL_a025d9a745dc430ea88a56275b2ad889",
            "max": 1,
            "min": 0,
            "orientation": "horizontal",
            "readout": true,
            "readout_format": ".2f",
            "step": 0.01,
            "style": "IPY_MODEL_5dd472a2411f493eb3f3fa345d7646a3",
            "value": 0.29
          }
        },
        "a025d9a745dc430ea88a56275b2ad889": {
          "model_module": "@jupyter-widgets/base",
          "model_name": "LayoutModel",
          "model_module_version": "1.2.0",
          "state": {
            "_model_module": "@jupyter-widgets/base",
            "_model_module_version": "1.2.0",
            "_model_name": "LayoutModel",
            "_view_count": null,
            "_view_module": "@jupyter-widgets/base",
            "_view_module_version": "1.2.0",
            "_view_name": "LayoutView",
            "align_content": null,
            "align_items": null,
            "align_self": null,
            "border": null,
            "bottom": null,
            "display": null,
            "flex": null,
            "flex_flow": null,
            "grid_area": null,
            "grid_auto_columns": null,
            "grid_auto_flow": null,
            "grid_auto_rows": null,
            "grid_column": null,
            "grid_gap": null,
            "grid_row": null,
            "grid_template_areas": null,
            "grid_template_columns": null,
            "grid_template_rows": null,
            "height": null,
            "justify_content": null,
            "justify_items": null,
            "left": null,
            "margin": null,
            "max_height": null,
            "max_width": null,
            "min_height": null,
            "min_width": null,
            "object_fit": null,
            "object_position": null,
            "order": null,
            "overflow": null,
            "overflow_x": null,
            "overflow_y": null,
            "padding": null,
            "right": null,
            "top": null,
            "visibility": null,
            "width": null
          }
        },
        "5dd472a2411f493eb3f3fa345d7646a3": {
          "model_module": "@jupyter-widgets/controls",
          "model_name": "SliderStyleModel",
          "model_module_version": "1.5.0",
          "state": {
            "_model_module": "@jupyter-widgets/controls",
            "_model_module_version": "1.5.0",
            "_model_name": "SliderStyleModel",
            "_view_count": null,
            "_view_module": "@jupyter-widgets/base",
            "_view_module_version": "1.2.0",
            "_view_name": "StyleView",
            "description_width": "",
            "handle_color": null
          }
        },
        "c4eda591541b4c1c9686d475018397c5": {
          "model_module": "@jupyter-widgets/controls",
          "model_name": "FloatSliderModel",
          "model_module_version": "1.5.0",
          "state": {
            "_dom_classes": [],
            "_model_module": "@jupyter-widgets/controls",
            "_model_module_version": "1.5.0",
            "_model_name": "FloatSliderModel",
            "_view_count": null,
            "_view_module": "@jupyter-widgets/controls",
            "_view_module_version": "1.5.0",
            "_view_name": "FloatSliderView",
            "continuous_update": true,
            "description": "Loss Immunity",
            "description_tooltip": null,
            "disabled": false,
            "layout": "IPY_MODEL_61e3cd9a67a14eb990cbe4e7cee78b71",
            "max": 1,
            "min": 0,
            "orientation": "horizontal",
            "readout": true,
            "readout_format": ".2f",
            "step": 0.01,
            "style": "IPY_MODEL_a07b65b055a54a1281bcd775da5bea36",
            "value": 0.51
          }
        },
        "61e3cd9a67a14eb990cbe4e7cee78b71": {
          "model_module": "@jupyter-widgets/base",
          "model_name": "LayoutModel",
          "model_module_version": "1.2.0",
          "state": {
            "_model_module": "@jupyter-widgets/base",
            "_model_module_version": "1.2.0",
            "_model_name": "LayoutModel",
            "_view_count": null,
            "_view_module": "@jupyter-widgets/base",
            "_view_module_version": "1.2.0",
            "_view_name": "LayoutView",
            "align_content": null,
            "align_items": null,
            "align_self": null,
            "border": null,
            "bottom": null,
            "display": null,
            "flex": null,
            "flex_flow": null,
            "grid_area": null,
            "grid_auto_columns": null,
            "grid_auto_flow": null,
            "grid_auto_rows": null,
            "grid_column": null,
            "grid_gap": null,
            "grid_row": null,
            "grid_template_areas": null,
            "grid_template_columns": null,
            "grid_template_rows": null,
            "height": null,
            "justify_content": null,
            "justify_items": null,
            "left": null,
            "margin": null,
            "max_height": null,
            "max_width": null,
            "min_height": null,
            "min_width": null,
            "object_fit": null,
            "object_position": null,
            "order": null,
            "overflow": null,
            "overflow_x": null,
            "overflow_y": null,
            "padding": null,
            "right": null,
            "top": null,
            "visibility": null,
            "width": null
          }
        },
        "a07b65b055a54a1281bcd775da5bea36": {
          "model_module": "@jupyter-widgets/controls",
          "model_name": "SliderStyleModel",
          "model_module_version": "1.5.0",
          "state": {
            "_model_module": "@jupyter-widgets/controls",
            "_model_module_version": "1.5.0",
            "_model_name": "SliderStyleModel",
            "_view_count": null,
            "_view_module": "@jupyter-widgets/base",
            "_view_module_version": "1.2.0",
            "_view_name": "StyleView",
            "description_width": "",
            "handle_color": null
          }
        },
        "539c87f27ad24aeaa4e61c9eb92397c2": {
          "model_module": "@jupyter-widgets/controls",
          "model_name": "ButtonModel",
          "model_module_version": "1.5.0",
          "state": {
            "_dom_classes": [],
            "_model_module": "@jupyter-widgets/controls",
            "_model_module_version": "1.5.0",
            "_model_name": "ButtonModel",
            "_view_count": null,
            "_view_module": "@jupyter-widgets/controls",
            "_view_module_version": "1.5.0",
            "_view_name": "ButtonView",
            "button_style": "success",
            "description": "Reset Simulation",
            "disabled": false,
            "icon": "",
            "layout": "IPY_MODEL_f713a62f7e4f4e6d8722432aeacd10fe",
            "style": "IPY_MODEL_a96a5bc89d2b4556abe2d84f6f878e9d",
            "tooltip": ""
          }
        },
        "f713a62f7e4f4e6d8722432aeacd10fe": {
          "model_module": "@jupyter-widgets/base",
          "model_name": "LayoutModel",
          "model_module_version": "1.2.0",
          "state": {
            "_model_module": "@jupyter-widgets/base",
            "_model_module_version": "1.2.0",
            "_model_name": "LayoutModel",
            "_view_count": null,
            "_view_module": "@jupyter-widgets/base",
            "_view_module_version": "1.2.0",
            "_view_name": "LayoutView",
            "align_content": null,
            "align_items": null,
            "align_self": null,
            "border": null,
            "bottom": null,
            "display": null,
            "flex": null,
            "flex_flow": null,
            "grid_area": null,
            "grid_auto_columns": null,
            "grid_auto_flow": null,
            "grid_auto_rows": null,
            "grid_column": null,
            "grid_gap": null,
            "grid_row": null,
            "grid_template_areas": null,
            "grid_template_columns": null,
            "grid_template_rows": null,
            "height": null,
            "justify_content": null,
            "justify_items": null,
            "left": null,
            "margin": null,
            "max_height": null,
            "max_width": null,
            "min_height": null,
            "min_width": null,
            "object_fit": null,
            "object_position": null,
            "order": null,
            "overflow": null,
            "overflow_x": null,
            "overflow_y": null,
            "padding": null,
            "right": null,
            "top": null,
            "visibility": null,
            "width": null
          }
        },
        "a96a5bc89d2b4556abe2d84f6f878e9d": {
          "model_module": "@jupyter-widgets/controls",
          "model_name": "ButtonStyleModel",
          "model_module_version": "1.5.0",
          "state": {
            "_model_module": "@jupyter-widgets/controls",
            "_model_module_version": "1.5.0",
            "_model_name": "ButtonStyleModel",
            "_view_count": null,
            "_view_module": "@jupyter-widgets/base",
            "_view_module_version": "1.2.0",
            "_view_name": "StyleView",
            "button_color": null,
            "font_weight": ""
          }
        }
      }
    }
  },
  "cells": [
    {
      "cell_type": "markdown",
      "metadata": {
        "id": "view-in-github",
        "colab_type": "text"
      },
      "source": [
        "<a href=\"https://colab.research.google.com/github/ManaliMisra/FinalProject/blob/main/Final_Project.ipynb\" target=\"_parent\"><img src=\"https://colab.research.google.com/assets/colab-badge.svg\" alt=\"Open In Colab\"/></a>"
      ]
    },
    {
      "cell_type": "code",
      "execution_count": null,
      "metadata": {
        "id": "VsQiHbr2ra8i"
      },
      "outputs": [],
      "source": [
        "\n",
        "more sample_data/mnist_test.csv"
      ]
    },
    {
      "cell_type": "code",
      "source": [
        "pwd"
      ],
      "metadata": {
        "colab": {
          "base_uri": "https://localhost:8080/",
          "height": 35
        },
        "id": "IxV5pfo0rtOw",
        "outputId": "8e3f7260-75a5-46de-9ea0-caeff3a77046"
      },
      "execution_count": null,
      "outputs": [
        {
          "output_type": "execute_result",
          "data": {
            "text/plain": [
              "'/content'"
            ],
            "application/vnd.google.colaboratory.intrinsic+json": {
              "type": "string"
            }
          },
          "metadata": {},
          "execution_count": 5
        }
      ]
    },
    {
      "cell_type": "code",
      "source": [
        "import numpy as np\n",
        "import matplotlib.pyplot as plt\n",
        "from matplotlib.animation import FuncAnimation\n",
        "\n",
        "# Grid size and simulation settings\n",
        "grid_size = 30\n",
        "steps = 50\n",
        "p_infection = 0.25\n",
        "p_recovery = 0.1\n",
        "p_loss_immunity = 0.01\n",
        "\n",
        "# States: 0 = S, 1 = I, 2 = R\n",
        "grid = np.zeros((grid_size, grid_size), dtype=int)\n",
        "\n",
        "# Start with a few infected in the center\n",
        "center = grid_size // 2\n",
        "grid[center, center] = 1\n",
        "\n",
        "# For plots\n",
        "S_history, I_history, R_history = [2], [3], [5]\n",
        "\n",
        "def update_grid(grid):\n",
        "    new_grid = grid.copy()\n",
        "    for i in range(grid_size):\n",
        "        for j in range(grid_size):\n",
        "            if grid[i, j] == 0:  # Susceptible\n",
        "                # Check neighbors for infection\n",
        "                neighbors = grid[max(0, i-1):min(grid_size, i+2),\n",
        "                                 max(0, j-1):min(grid_size, j+2)]\n",
        "                if np.any(neighbors == 1) and np.random.rand() < p_infection:\n",
        "                    new_grid[i, j] = 1\n",
        "            elif grid[i, j] == 1:  # Infected\n",
        "                if np.random.rand() < p_recovery:\n",
        "                    new_grid[i, j] = 2\n",
        "            elif grid[i, j] == 2:  # Recovered\n",
        "                if np.random.rand() < p_loss_immunity:\n",
        "                    new_grid[i, j] = 0\n",
        "    return new_grid\n",
        "\n",
        "# Prepare animation\n",
        "fig, (ax1, ax2) = plt.subplots(1, 2, figsize=(12, 5))\n",
        "im = ax1.imshow(grid, cmap='viridis', vmin=0, vmax=2)\n",
        "ax1.set_title(\"Population State (0=S, 1=I, 2=R)\")\n",
        "line_S, = ax2.plot([], [], label='Susceptible', color='blue')\n",
        "line_I, = ax2.plot([], [], label='Infected', color='red')\n",
        "line_R, = ax2.plot([], [], label='Recovered', color='green')\n",
        "ax2.set_xlim(0, steps)\n",
        "ax2.set_ylim(0, grid_size**2)\n",
        "ax2.legend()\n",
        "ax2.set_title(\"SIR over Time\")\n",
        "\n",
        "def animate(frame):\n",
        "    global grid\n",
        "    grid = update_grid(grid)\n",
        "    im.set_data(grid)\n",
        "\n",
        "    # Count states\n",
        "    S = np.sum(grid == 0)\n",
        "    I = np.sum(grid == 1)\n",
        "    R = np.sum(grid == 2)\n",
        "    S_history.append(S)\n",
        "    I_history.append(I)\n",
        "    R_history.append(R)\n",
        "\n",
        "    # Update line plots\n",
        "    x = range(len(S_history))\n",
        "    line_S.set_data(x, S_history)\n",
        "    line_I.set_data(x, I_history)\n",
        "    line_R.set_data(x, R_history)\n",
        "    return im, line_S, line_I, line_R\n",
        "\n",
        "anim = FuncAnimation(fig, animate, frames=steps, interval=300, blit=True)\n",
        "plt.tight_layout()\n",
        "plt.show()\n"
      ],
      "metadata": {
        "id": "fyp999USsJq8",
        "colab": {
          "base_uri": "https://localhost:8080/",
          "height": 317
        },
        "outputId": "41745f6b-8884-4772-d475-0dbb09a48ccd"
      },
      "execution_count": 4,
      "outputs": [
        {
          "output_type": "display_data",
          "data": {
            "text/plain": [
              "<Figure size 1200x500 with 2 Axes>"
            ],
            "image/png": "[encoded data removed]"
          },
          "metadata": {}
        }
      ]
    },
    {
      "cell_type": "code",
      "source": [
        "import numpy as np\n",
        "import matplotlib.pyplot as plt\n",
        "\n",
        "# Simulation parameters\n",
        "population_size = 100\n",
        "days = 50\n",
        "initial_infected = 5\n",
        "\n",
        "# Probabilities\n",
        "p_infection = 0.1  # chance S → I if near infection\n",
        "p_recovery = 0.05  # chance I → R\n",
        "p_loss_immunity = 0.01  # chance R → S\n",
        "\n",
        "# States: 0 = Susceptible, 1 = Infected, 2 = Recovered\n",
        "states = np.zeros(population_size, dtype=int)\n",
        "states[:initial_infected] = 1  # Set initial infected\n",
        "\n",
        "# Track results\n",
        "history_S = [3]\n",
        "history_I = [66]\n",
        "history_R = [57]\n",
        "\n",
        "for day in range(days):\n",
        "    new_states = states.copy()\n",
        "\n",
        "    for i in range(population_size):\n",
        "        if states[i] == 0:  # Susceptible\n",
        "            # Check if there's any infected person around (simplified)\n",
        "            if np.any(states == 1) and np.random.rand() < p_infection:\n",
        "                new_states[i] = 1\n",
        "        elif states[i] == 1:  # Infected\n",
        "            if np.random.rand() < p_recovery:\n",
        "                new_states[i] = 2\n",
        "        elif states[i] == 2:  # Recovered\n",
        "            if np.random.rand() < p_loss_immunity:\n",
        "                new_states[i] = 0\n",
        "\n",
        "    # Update states\n",
        "    states = new_states\n",
        "\n",
        "    # Record for graphing\n",
        "    S = np.sum(states == 0)\n",
        "    I = np.sum(states == 1)\n",
        "    R = np.sum(states == 2)\n",
        "\n",
        "    history_S.append(S)\n",
        "    history_I.append(I)\n",
        "    history_R.append(R)\n",
        "\n",
        "# Plot results\n",
        "plt.figure(figsize=(10, 6))\n",
        "plt.plot(history_S, label='Susceptible', color='blue')\n",
        "plt.plot(history_I, label='Infected', color='red')\n",
        "plt.plot(history_R, label='Recovered', color='green')\n",
        "plt.xlabel('Day')\n",
        "plt.ylabel('People')\n",
        "plt.title('Disease Spread Simulation (SIR Model using Markov Chains)')\n",
        "plt.legend()\n",
        "plt.grid(True)\n",
        "plt.show()\n"
      ],
      "metadata": {
        "colab": {
          "base_uri": "https://localhost:8080/",
          "height": 470
        },
        "id": "WoVip7wG9Gwa",
        "outputId": "c94d3262-1550-420b-e3d3-66a7181be00d"
      },
      "execution_count": 6,
      "outputs": [
        {
          "output_type": "display_data",
          "data": {
            "text/plain": [
              "<Figure size 1000x600 with 1 Axes>"
            ],
            "image/png": "[encoded data removed]"
          },
          "metadata": {}
        }
      ]
    },
    {
      "cell_type": "code",
      "source": [
        "import ipywidgets as widgets\n",
        "from IPython.display import display, clear_output\n",
        "import matplotlib.pyplot as plt\n",
        "import numpy as np\n",
        "import matplotlib.animation as animation\n",
        "\n",
        "# Grid setup\n",
        "grid_size = 50\n",
        "num_steps = 100\n",
        "initial_infection_prob = 0.02\n",
        "\n",
        "# Widgets\n",
        "p_inf_slider = widgets.FloatSlider(value=0.25, min=0, max=1.0, step=0.01, description='Infection')\n",
        "p_rec_slider = widgets.FloatSlider(value=0.1, min=0, max=1.0, step=0.01, description='Recovery')\n",
        "p_loss_slider = widgets.FloatSlider(value=0.01, min=0, max=1.0, step=0.01, description='Loss Immunity')\n",
        "reset_button = widgets.Button(description=\"Reset Simulation\", button_style='success')\n",
        "\n",
        "display(p_inf_slider, p_rec_slider, p_loss_slider, reset_button)\n",
        "\n"
      ],
      "metadata": {
        "colab": {
          "base_uri": "https://localhost:8080/",
          "height": 141,
          "referenced_widgets": [
            "1305730337fe497195ee17c6cfebd964",
            "ea125c2e9de14e989e6268be747c89b0",
            "b1a57a3d07d7451e9ed9f7334fd05bbf",
            "d890c5efcce74373a12aba7ffe0b1150",
            "a025d9a745dc430ea88a56275b2ad889",
            "5dd472a2411f493eb3f3fa345d7646a3",
            "c4eda591541b4c1c9686d475018397c5",
            "61e3cd9a67a14eb990cbe4e7cee78b71",
            "a07b65b055a54a1281bcd775da5bea36",
            "539c87f27ad24aeaa4e61c9eb92397c2",
            "f713a62f7e4f4e6d8722432aeacd10fe",
            "a96a5bc89d2b4556abe2d84f6f878e9d"
          ]
        },
        "id": "f0_zxCpT_RTG",
        "outputId": "80d1bdfd-3e96-4a5e-bc79-5c1d4804ce1b"
      },
      "execution_count": 8,
      "outputs": [
        {
          "output_type": "display_data",
          "data": {
            "text/plain": [
              "FloatSlider(value=0.25, description='Infection', max=1.0, step=0.01)"
            ],
            "application/vnd.jupyter.widget-view+json": {
              "version_major": 2,
              "version_minor": 0,
              "model_id": "1305730337fe497195ee17c6cfebd964"
            }
          },
          "metadata": {}
        },
        {
          "output_type": "display_data",
          "data": {
            "text/plain": [
              "FloatSlider(value=0.1, description='Recovery', max=1.0, step=0.01)"
            ],
            "application/vnd.jupyter.widget-view+json": {
              "version_major": 2,
              "version_minor": 0,
              "model_id": "d890c5efcce74373a12aba7ffe0b1150"
            }
          },
          "metadata": {}
        },
        {
          "output_type": "display_data",
          "data": {
            "text/plain": [
              "FloatSlider(value=0.01, description='Loss Immunity', max=1.0, step=0.01)"
            ],
            "application/vnd.jupyter.widget-view+json": {
              "version_major": 2,
              "version_minor": 0,
              "model_id": "c4eda591541b4c1c9686d475018397c5"
            }
          },
          "metadata": {}
        },
        {
          "output_type": "display_data",
          "data": {
            "text/plain": [
              "Button(button_style='success', description='Reset Simulation', style=ButtonStyle())"
            ],
            "application/vnd.jupyter.widget-view+json": {
              "version_major": 2,
              "version_minor": 0,
              "model_id": "539c87f27ad24aeaa4e61c9eb92397c2"
            }
          },
          "metadata": {}
        }
      ]
    },
    {
      "cell_type": "code",
      "source": [
        "def run_simulation(p_infection, p_recovery, p_loss_immunity):\n",
        "    clear_output(wait=True)\n",
        "    display(p_inf_slider, p_rec_slider, p_loss_slider, reset_button)\n",
        "\n",
        "    grid = np.zeros((grid_size, grid_size), dtype=int)\n",
        "    grid[np.random.rand(grid_size, grid_size) < initial_infection_prob] = 1\n",
        "\n",
        "    cmap = plt.cm.get_cmap('viridis', 3)\n",
        "    S_history, I_history, R_history = [], [], []\n",
        "\n",
        "    def update(frame):\n",
        "        nonlocal grid\n",
        "        new_grid = grid.copy()\n",
        "\n",
        "        for i in range(grid_size):\n",
        "            for j in range(grid_size):\n",
        "                state = grid[i, j]\n",
        "                neighbors = grid[max(i-1,0):min(i+2,grid_size), max(j-1,0):min(j+2,grid_size)].flatten()\n",
        "                infected_neighbors = np.sum(neighbors == 1)\n",
        "\n",
        "                if state == 0 and infected_neighbors > 0:\n",
        "                    if np.random.rand() < p_infection:\n",
        "                        new_grid[i, j] = 1\n",
        "                elif state == 1:\n",
        "                    if np.random.rand() < p_recovery:\n",
        "                        new_grid[i, j] = 2\n",
        "                elif state == 2:\n",
        "                    if np.random.rand() < p_loss_immunity:\n",
        "                        new_grid[i, j] = 0\n",
        "\n",
        "        grid = new_grid\n",
        "        counts = np.bincount(grid.flatten(), minlength=3)\n",
        "        S_history.append(counts[0])\n",
        "        I_history.append(counts[1])\n",
        "        R_history.append(counts[2])\n",
        "\n",
        "        im.set_array(grid)\n",
        "        return [im]\n",
        "\n",
        "    fig, ax = plt.subplots()\n",
        "    im = ax.imshow(grid, cmap=cmap, vmin=0, vmax=2)\n",
        "    plt.title(\"Markov Chain Disease Spread Simulation\")\n",
        "\n",
        "    ani = animation.FuncAnimation(fig, update, frames=num_steps, interval=200, blit=True, repeat=False)\n",
        "    plt.show()\n",
        "\n",
        "    # Plot population over time\n",
        "    plt.figure(figsize=(10, 4))\n",
        "    plt.plot(S_history, label='Susceptible', color='blue')\n",
        "    plt.plot(I_history, label='Infected', color='orange')\n",
        "    plt.plot(R_history, label='Recovered', color='green')\n",
        "    plt.xlabel('Time Step')\n",
        "    plt.ylabel('Population')\n",
        "    plt.title('SIR Counts Over Time')\n",
        "    plt.legend()\n",
        "    plt.grid()\n",
        "    plt.show()\n"
      ],
      "metadata": {
        "id": "alHpnvDF_22F"
      },
      "execution_count": 10,
      "outputs": []
    },
    {
      "cell_type": "markdown",
      "source": [
        "# 🔁 Markov Chain SIR Simulation (with Spatial Dynamics)\n",
        "\n",
        "This simulation models the spread of a disease using a **Markov Chain**, where each person can be in one of three states:\n",
        "- **S**: Susceptible (0)\n",
        "- **I**: Infected (1)\n",
        "- **R**: Recovered (2)\n",
        "\n",
        "### 🔄 State Transitions\n",
        "\n",
        "At each time step, the state of each individual can change based on **probabilities**:\n",
        "\n",
        "| From → To | Condition                         | Probability            |\n",
        "|-----------|-----------------------------------|------------------------|\n",
        "| S → I     | Has infected neighbors            | `p_infection`          |\n",
        "| I → R     | Infected recovers                 | `p_recovery`           |\n",
        "| R → S     | Immunity wanes                    | `p_loss_immunity`      |\n",
        "\n",
        "This satisfies the **Markov Property** — the next state depends only on the **current state**, not the history.\n",
        "\n",
        "### 📊 Transition Matrix Representation\n",
        "\n",
        "\\[\n",
        "\\begin{bmatrix}\n",
        "1 - p_{infection} & p_{infection} & 0 \\\\\\\\\n",
        "0 & 1 - p_{recovery} & p_{recovery} \\\\\\\\\n",
        "p_{loss} & 0 & 1 - p_{loss}\n",
        "\\end{bmatrix}\n",
        "\\]\n"
      ],
      "metadata": {
        "id": "51BDmttW_mKw"
      }
    },
    {
      "cell_type": "code",
      "source": [
        "def run_simulation(p_infection, p_recovery, p_loss_immunity):\n",
        "    clear_output(wait=True)\n",
        "    display(p_inf_slider, p_rec_slider, p_loss_slider, reset_button)\n",
        "\n",
        "    grid = np.zeros((grid_size, grid_size), dtype=int)\n",
        "    grid[np.random.rand(grid_size, grid_size) < initial_infection_prob] = 1\n",
        "\n",
        "    cmap = plt.cm.get_cmap('viridis', 3)\n",
        "    S_history, I_history, R_history = [], [], []\n",
        "\n",
        "    def update(frame):\n",
        "        nonlocal grid\n",
        "        new_grid = grid.copy()\n",
        "\n",
        "        for i in range(grid_size):\n",
        "            for j in range(grid_size):\n",
        "                state = grid[i, j]\n",
        "                neighbors = grid[max(i-1,0):min(i+2,grid_size), max(j-1,0):min(j+2,grid_size)].flatten()\n",
        "                infected_neighbors = np.sum(neighbors == 1)\n",
        "\n",
        "                if state == 0 and infected_neighbors > 0:\n",
        "                    if np.random.rand() < p_infection:\n",
        "                        new_grid[i, j] = 1\n",
        "                elif state == 1:\n",
        "                    if np.random.rand() < p_recovery:\n",
        "                        new_grid[i, j] = 2\n",
        "                elif state == 2:\n",
        "                    if np.random.rand() < p_loss_immunity:\n",
        "                        new_grid[i, j] = 0\n",
        "\n",
        "        grid = new_grid\n",
        "        counts = np.bincount(grid.flatten(), minlength=3)\n",
        "        S_history.append(counts[0])\n",
        "        I_history.append(counts[1])\n",
        "        R_history.append(counts[2])\n",
        "\n",
        "        im.set_array(grid)\n",
        "        return [im]\n",
        "\n",
        "    fig, ax = plt.subplots()\n",
        "    im = ax.imshow(grid, cmap=cmap, vmin=0, vmax=2)\n",
        "    plt.title(\"Markov Chain Disease Spread Simulation\")\n",
        "\n",
        "    ani = animation.FuncAnimation(fig, update, frames=num_steps, interval=200, blit=True, repeat=False)\n",
        "    plt.show()\n",
        "\n",
        "    # Plot population over time\n",
        "    plt.figure(figsize=(10, 4))\n",
        "    plt.plot(S_history, label='Susceptible', color='blue')\n",
        "    plt.plot(I_history, label='Infected', color='orange')\n",
        "    plt.plot(R_history, label='Recovered', color='green')\n",
        "    plt.xlabel('Time Step')\n",
        "    plt.ylabel('Population')\n",
        "    plt.title('SIR Counts Over Time')\n",
        "    plt.legend()\n",
        "    plt.grid()\n",
        "    plt.show()\n"
      ],
      "metadata": {
        "id": "khObuatu_8ok"
      },
      "execution_count": 11,
      "outputs": []
    },
    {
      "cell_type": "code",
      "source": [
        "def on_slider_change(change):\n",
        "    run_simulation(p_inf_slider.value, p_rec_slider.value, p_loss_slider.value)\n",
        "\n",
        "def on_button_click(b):\n",
        "    run_simulation(p_inf_slider.value, p_rec_slider.value, p_loss_slider.value)\n",
        "\n",
        "p_inf_slider.observe(on_slider_change, names='value')\n",
        "p_rec_slider.observe(on_slider_change, names='value')\n",
        "p_loss_slider.observe(on_slider_change, names='value')\n",
        "reset_button.on_click(on_button_click)\n",
        "\n",
        "# Initial run\n",
        "run_simulation(p_inf_slider.value, p_rec_slider.value, p_loss_slider.value)\n"
      ],
      "metadata": {
        "colab": {
          "base_uri": "https://localhost:8080/",
          "height": 950,
          "referenced_widgets": [
            "1305730337fe497195ee17c6cfebd964",
            "ea125c2e9de14e989e6268be747c89b0",
            "b1a57a3d07d7451e9ed9f7334fd05bbf",
            "d890c5efcce74373a12aba7ffe0b1150",
            "a025d9a745dc430ea88a56275b2ad889",
            "5dd472a2411f493eb3f3fa345d7646a3",
            "c4eda591541b4c1c9686d475018397c5",
            "61e3cd9a67a14eb990cbe4e7cee78b71",
            "a07b65b055a54a1281bcd775da5bea36",
            "539c87f27ad24aeaa4e61c9eb92397c2",
            "f713a62f7e4f4e6d8722432aeacd10fe",
            "a96a5bc89d2b4556abe2d84f6f878e9d"
          ]
        },
        "id": "OiIUUhbPAA06",
        "outputId": "b00fd638-4542-4be8-e54e-faff724ddb2b"
      },
      "execution_count": 12,
      "outputs": [
        {
          "output_type": "display_data",
          "data": {
            "text/plain": [
              "FloatSlider(value=0.64, description='Infection', max=1.0, step=0.01)"
            ],
            "application/vnd.jupyter.widget-view+json": {
              "version_major": 2,
              "version_minor": 0,
              "model_id": "1305730337fe497195ee17c6cfebd964"
            }
          },
          "metadata": {}
        },
        {
          "output_type": "display_data",
          "data": {
            "text/plain": [
              "FloatSlider(value=0.29, description='Recovery', max=1.0, step=0.01)"
            ],
            "application/vnd.jupyter.widget-view+json": {
              "version_major": 2,
              "version_minor": 0,
              "model_id": "d890c5efcce74373a12aba7ffe0b1150"
            }
          },
          "metadata": {}
        },
        {
          "output_type": "display_data",
          "data": {
            "text/plain": [
              "FloatSlider(value=0.51, description='Loss Immunity', max=1.0, step=0.01)"
            ],
            "application/vnd.jupyter.widget-view+json": {
              "version_major": 2,
              "version_minor": 0,
              "model_id": "c4eda591541b4c1c9686d475018397c5"
            }
          },
          "metadata": {}
        },
        {
          "output_type": "display_data",
          "data": {
            "text/plain": [
              "Button(button_style='success', description='Reset Simulation', style=ButtonStyle())"
            ],
            "application/vnd.jupyter.widget-view+json": {
              "version_major": 2,
              "version_minor": 0,
              "model_id": "539c87f27ad24aeaa4e61c9eb92397c2"
            }
          },
          "metadata": {}
        },
        {
          "output_type": "stream",
          "name": "stderr",
          "text": [
            "<ipython-input-11-e77ff4b9137e>:8: MatplotlibDeprecationWarning: The get_cmap function was deprecated in Matplotlib 3.7 and will be removed in 3.11. Use ``matplotlib.colormaps[name]`` or ``matplotlib.colormaps.get_cmap()`` or ``pyplot.get_cmap()`` instead.\n",
            "  cmap = plt.cm.get_cmap('viridis', 3)\n"
          ]
        },
        {
          "output_type": "display_data",
          "data": {
            "text/plain": [
              "<Figure size 640x480 with 1 Axes>"
            ],
            "image/png": "[encoded data removed]"
          },
          "metadata": {}
        },
        {
          "output_type": "display_data",
          "data": {
            "text/plain": [
              "<Figure size 1000x400 with 1 Axes>"
            ],
            "image/png": "[encoded data removed]"
          },
          "metadata": {}
        }
      ]
    },
    {
      "cell_type": "code",
      "source": [],
      "metadata": {
        "id": "Un1gxMpZABuy"
      },
      "execution_count": null,
      "outputs": []
    }
  ]
}